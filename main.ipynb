{
 "cells": [
  {
   "cell_type": "code",
   "execution_count": 40,
   "metadata": {
    "collapsed": true,
    "pycharm": {
     "is_executing": false
    }
   },
   "outputs": [],
   "source": [
    "import pandas as pd\n",
    "import numpy as np\n",
    "from sklearn import preprocessing\n",
    "from sklearn.metrics import confusion_matrix, classification_report, accuracy_score"
   ]
  },
  {
   "cell_type": "code",
   "execution_count": 45,
   "outputs": [],
   "source": [
    "data = pd.read_csv(\"worlds2020.csv\", delimiter=\";\")\n",
    "data_2 = pd.read_csv(\"worlds2020.csv\", delimiter=\";\")\n",
    "data = data.sample(frac=1).reset_index(drop=True)"
   ],
   "metadata": {
    "collapsed": false,
    "pycharm": {
     "name": "#%%\n",
     "is_executing": false
    }
   }
  },
  {
   "cell_type": "code",
   "execution_count": 46,
   "outputs": [],
   "source": [
    "data_target = data[\"Result\"].values\n",
    "data = data.drop([\"Result\"], axis=1)"
   ],
   "metadata": {
    "collapsed": false,
    "pycharm": {
     "name": "#%%\n",
     "is_executing": false
    }
   }
  },
  {
   "cell_type": "code",
   "execution_count": 47,
   "outputs": [
    {
     "data": {
      "text/plain": "      Team  Wins  Losses          Top    Jungle           Mid Ad carry  \\\n0       DX     0       1        Quinn   Lee Sin  Twisted Fate   Draven   \n1       G2     3       1         Shen    Lillia        Lucian     Jhin   \n2      MCX     1       0  Mordekaiser    Graves        Syndra    Senna   \n3      TOP     1       0     Renekton   Nidalee      Nocturne    Senna   \n4       TL     0       2     Volibear    Graves       Orianna  Kalista   \n5      MCX     0       0         Ornn  Volibear        Syndra   Ezreal   \n6      TSM     0       0      Camille   Nidalee        Syndra    Senna   \n7    Rogue     0       0     Malphite   Evelynn        Lucian  Kalista   \n8       G2     0       0     Volibear    Graves  Twisted Fate   Ezreal   \n9      FLY     1       1         Ornn    Graves       Orianna     Ashe   \n10  Suning     3       1        Jayce    Graves  Twisted Fate    Senna   \n11     GEN     3       1         Ornn    Graves       Orianna    Senna   \n12   Rogue     1       3         Sion    Lillia          Ryze     Ashe   \n13     PSG     0       0     Renekton    Graves       Orianna    Senna   \n14     DWG     3       0         Ornn    Graves          Ekko     Jhin   \n15      JD     2       1      Camille     Sylas          Ekko     Jhin   \n16     GEN     2       0     Renekton   Nidalee          Azir   Ezreal   \n17  Fnatic     3       1     Volibear   Hecarim       Orianna     Ashe   \n18     DWG     5       0         Sett    Graves         Galio  Kalista   \n19   Rogue     1       0    Gangplank   Hecarim        Syndra  Kalista   \n\n       Support  Side  \n0       Thresh   Red  \n1        Rakan  Blue  \n2     Pantheon  Blue  \n3   Tahm Kench  Blue  \n4         Sett   Red  \n5        Karma  Blue  \n6      Alistar  Blue  \n7        Rakan  Blue  \n8         Bard  Blue  \n9     Pantheon   Red  \n10  Tahm Kench  Blue  \n11  Tahm Kench   Red  \n12    Nautilus   Red  \n13    Nautilus   Red  \n14        Bard   Red  \n15       Senna   Red  \n16       Rakan   Red  \n17       Leona  Blue  \n18     Alistar   Red  \n19       Taric  Blue  ",
      "text/html": "<div>\n<style scoped>\n    .dataframe tbody tr th:only-of-type {\n        vertical-align: middle;\n    }\n\n    .dataframe tbody tr th {\n        vertical-align: top;\n    }\n\n    .dataframe thead th {\n        text-align: right;\n    }\n</style>\n<table border=\"1\" class=\"dataframe\">\n  <thead>\n    <tr style=\"text-align: right;\">\n      <th></th>\n      <th>Team</th>\n      <th>Wins</th>\n      <th>Losses</th>\n      <th>Top</th>\n      <th>Jungle</th>\n      <th>Mid</th>\n      <th>Ad carry</th>\n      <th>Support</th>\n      <th>Side</th>\n    </tr>\n  </thead>\n  <tbody>\n    <tr>\n      <th>0</th>\n      <td>DX</td>\n      <td>0</td>\n      <td>1</td>\n      <td>Quinn</td>\n      <td>Lee Sin</td>\n      <td>Twisted Fate</td>\n      <td>Draven</td>\n      <td>Thresh</td>\n      <td>Red</td>\n    </tr>\n    <tr>\n      <th>1</th>\n      <td>G2</td>\n      <td>3</td>\n      <td>1</td>\n      <td>Shen</td>\n      <td>Lillia</td>\n      <td>Lucian</td>\n      <td>Jhin</td>\n      <td>Rakan</td>\n      <td>Blue</td>\n    </tr>\n    <tr>\n      <th>2</th>\n      <td>MCX</td>\n      <td>1</td>\n      <td>0</td>\n      <td>Mordekaiser</td>\n      <td>Graves</td>\n      <td>Syndra</td>\n      <td>Senna</td>\n      <td>Pantheon</td>\n      <td>Blue</td>\n    </tr>\n    <tr>\n      <th>3</th>\n      <td>TOP</td>\n      <td>1</td>\n      <td>0</td>\n      <td>Renekton</td>\n      <td>Nidalee</td>\n      <td>Nocturne</td>\n      <td>Senna</td>\n      <td>Tahm Kench</td>\n      <td>Blue</td>\n    </tr>\n    <tr>\n      <th>4</th>\n      <td>TL</td>\n      <td>0</td>\n      <td>2</td>\n      <td>Volibear</td>\n      <td>Graves</td>\n      <td>Orianna</td>\n      <td>Kalista</td>\n      <td>Sett</td>\n      <td>Red</td>\n    </tr>\n    <tr>\n      <th>5</th>\n      <td>MCX</td>\n      <td>0</td>\n      <td>0</td>\n      <td>Ornn</td>\n      <td>Volibear</td>\n      <td>Syndra</td>\n      <td>Ezreal</td>\n      <td>Karma</td>\n      <td>Blue</td>\n    </tr>\n    <tr>\n      <th>6</th>\n      <td>TSM</td>\n      <td>0</td>\n      <td>0</td>\n      <td>Camille</td>\n      <td>Nidalee</td>\n      <td>Syndra</td>\n      <td>Senna</td>\n      <td>Alistar</td>\n      <td>Blue</td>\n    </tr>\n    <tr>\n      <th>7</th>\n      <td>Rogue</td>\n      <td>0</td>\n      <td>0</td>\n      <td>Malphite</td>\n      <td>Evelynn</td>\n      <td>Lucian</td>\n      <td>Kalista</td>\n      <td>Rakan</td>\n      <td>Blue</td>\n    </tr>\n    <tr>\n      <th>8</th>\n      <td>G2</td>\n      <td>0</td>\n      <td>0</td>\n      <td>Volibear</td>\n      <td>Graves</td>\n      <td>Twisted Fate</td>\n      <td>Ezreal</td>\n      <td>Bard</td>\n      <td>Blue</td>\n    </tr>\n    <tr>\n      <th>9</th>\n      <td>FLY</td>\n      <td>1</td>\n      <td>1</td>\n      <td>Ornn</td>\n      <td>Graves</td>\n      <td>Orianna</td>\n      <td>Ashe</td>\n      <td>Pantheon</td>\n      <td>Red</td>\n    </tr>\n    <tr>\n      <th>10</th>\n      <td>Suning</td>\n      <td>3</td>\n      <td>1</td>\n      <td>Jayce</td>\n      <td>Graves</td>\n      <td>Twisted Fate</td>\n      <td>Senna</td>\n      <td>Tahm Kench</td>\n      <td>Blue</td>\n    </tr>\n    <tr>\n      <th>11</th>\n      <td>GEN</td>\n      <td>3</td>\n      <td>1</td>\n      <td>Ornn</td>\n      <td>Graves</td>\n      <td>Orianna</td>\n      <td>Senna</td>\n      <td>Tahm Kench</td>\n      <td>Red</td>\n    </tr>\n    <tr>\n      <th>12</th>\n      <td>Rogue</td>\n      <td>1</td>\n      <td>3</td>\n      <td>Sion</td>\n      <td>Lillia</td>\n      <td>Ryze</td>\n      <td>Ashe</td>\n      <td>Nautilus</td>\n      <td>Red</td>\n    </tr>\n    <tr>\n      <th>13</th>\n      <td>PSG</td>\n      <td>0</td>\n      <td>0</td>\n      <td>Renekton</td>\n      <td>Graves</td>\n      <td>Orianna</td>\n      <td>Senna</td>\n      <td>Nautilus</td>\n      <td>Red</td>\n    </tr>\n    <tr>\n      <th>14</th>\n      <td>DWG</td>\n      <td>3</td>\n      <td>0</td>\n      <td>Ornn</td>\n      <td>Graves</td>\n      <td>Ekko</td>\n      <td>Jhin</td>\n      <td>Bard</td>\n      <td>Red</td>\n    </tr>\n    <tr>\n      <th>15</th>\n      <td>JD</td>\n      <td>2</td>\n      <td>1</td>\n      <td>Camille</td>\n      <td>Sylas</td>\n      <td>Ekko</td>\n      <td>Jhin</td>\n      <td>Senna</td>\n      <td>Red</td>\n    </tr>\n    <tr>\n      <th>16</th>\n      <td>GEN</td>\n      <td>2</td>\n      <td>0</td>\n      <td>Renekton</td>\n      <td>Nidalee</td>\n      <td>Azir</td>\n      <td>Ezreal</td>\n      <td>Rakan</td>\n      <td>Red</td>\n    </tr>\n    <tr>\n      <th>17</th>\n      <td>Fnatic</td>\n      <td>3</td>\n      <td>1</td>\n      <td>Volibear</td>\n      <td>Hecarim</td>\n      <td>Orianna</td>\n      <td>Ashe</td>\n      <td>Leona</td>\n      <td>Blue</td>\n    </tr>\n    <tr>\n      <th>18</th>\n      <td>DWG</td>\n      <td>5</td>\n      <td>0</td>\n      <td>Sett</td>\n      <td>Graves</td>\n      <td>Galio</td>\n      <td>Kalista</td>\n      <td>Alistar</td>\n      <td>Red</td>\n    </tr>\n    <tr>\n      <th>19</th>\n      <td>Rogue</td>\n      <td>1</td>\n      <td>0</td>\n      <td>Gangplank</td>\n      <td>Hecarim</td>\n      <td>Syndra</td>\n      <td>Kalista</td>\n      <td>Taric</td>\n      <td>Blue</td>\n    </tr>\n  </tbody>\n</table>\n</div>"
     },
     "metadata": {},
     "output_type": "execute_result",
     "execution_count": 47
    }
   ],
   "source": [
    "data.head(20)"
   ],
   "metadata": {
    "collapsed": false,
    "pycharm": {
     "name": "#%%\n",
     "is_executing": false
    }
   }
  },
  {
   "cell_type": "code",
   "execution_count": 48,
   "outputs": [],
   "source": [
    "le = preprocessing.LabelEncoder()"
   ],
   "metadata": {
    "collapsed": false,
    "pycharm": {
     "name": "#%%\n",
     "is_executing": false
    }
   }
  },
  {
   "cell_type": "code",
   "execution_count": 49,
   "outputs": [],
   "source": [
    "team = data[\"Team\"].values\n",
    "top = data[\"Top\"].values\n",
    "jungle = data[\"Jungle\"].values\n",
    "mid = data[\"Mid\"].values\n",
    "adc = data[\"Ad carry\"].values\n",
    "supp = data[\"Support\"].values\n",
    "side = data[\"Side\"].values"
   ],
   "metadata": {
    "collapsed": false,
    "pycharm": {
     "name": "#%%\n",
     "is_executing": false
    }
   }
  },
  {
   "cell_type": "code",
   "execution_count": 50,
   "outputs": [],
   "source": [
    "data[\"Team\"] = le.fit_transform(team)\n",
    "data[\"Top\"] = le.fit_transform(top)\n",
    "data[\"Jungle\"] = le.fit_transform(jungle)\n",
    "data[\"Mid\"] = le.fit_transform(mid)\n",
    "data[\"Ad carry\"] = le.fit_transform(adc)\n",
    "data[\"Support\"] = le.fit_transform(supp)\n",
    "data[\"Side\"] = le.fit_transform(side)\n",
    "\n"
   ],
   "metadata": {
    "collapsed": false,
    "pycharm": {
     "name": "#%%\n",
     "is_executing": false
    }
   }
  },
  {
   "cell_type": "code",
   "execution_count": 51,
   "outputs": [
    {
     "data": {
      "text/plain": "    Team  Wins  Losses  Top  Jungle  Mid  Ad carry  Support  Side\n0      1     0       1   12       6   14         3       14     1\n1      4     3       1   15       7    7         5        9     0\n2      8     1       0   10       2   13         9        8     0\n3     13     1       0   13       8    8         9       12     0\n4     12     0       2   18       2    9         6       11     1\n5      8     0       0   11      10   13         4        4     0\n6     14     0       0    0       8   13         9        0     0\n7     10     0       0    8       0    7         6        9     0\n8      4     0       0   18       2   14         4        1     0\n9      2     1       1   11       2    9         1        8     1\n10    11     3       1    4       2   14         9       12     0\n11     5     3       1   11       2    9         9       12     1\n12    10     1       3   16       7   10         1        7     1\n13     9     0       0   13       2    9         9        7     1\n14     0     3       0   11       2    2         5        1     1\n15     6     2       1    0       9    2         5       10     1\n16     5     2       0   13       8    1         4        9     1\n17     3     3       1   18       3    9         1        5     0\n18     0     5       0   14       2    3         6        0     1\n19    10     1       0    1       3   13         6       13     0",
      "text/html": "<div>\n<style scoped>\n    .dataframe tbody tr th:only-of-type {\n        vertical-align: middle;\n    }\n\n    .dataframe tbody tr th {\n        vertical-align: top;\n    }\n\n    .dataframe thead th {\n        text-align: right;\n    }\n</style>\n<table border=\"1\" class=\"dataframe\">\n  <thead>\n    <tr style=\"text-align: right;\">\n      <th></th>\n      <th>Team</th>\n      <th>Wins</th>\n      <th>Losses</th>\n      <th>Top</th>\n      <th>Jungle</th>\n      <th>Mid</th>\n      <th>Ad carry</th>\n      <th>Support</th>\n      <th>Side</th>\n    </tr>\n  </thead>\n  <tbody>\n    <tr>\n      <th>0</th>\n      <td>1</td>\n      <td>0</td>\n      <td>1</td>\n      <td>12</td>\n      <td>6</td>\n      <td>14</td>\n      <td>3</td>\n      <td>14</td>\n      <td>1</td>\n    </tr>\n    <tr>\n      <th>1</th>\n      <td>4</td>\n      <td>3</td>\n      <td>1</td>\n      <td>15</td>\n      <td>7</td>\n      <td>7</td>\n      <td>5</td>\n      <td>9</td>\n      <td>0</td>\n    </tr>\n    <tr>\n      <th>2</th>\n      <td>8</td>\n      <td>1</td>\n      <td>0</td>\n      <td>10</td>\n      <td>2</td>\n      <td>13</td>\n      <td>9</td>\n      <td>8</td>\n      <td>0</td>\n    </tr>\n    <tr>\n      <th>3</th>\n      <td>13</td>\n      <td>1</td>\n      <td>0</td>\n      <td>13</td>\n      <td>8</td>\n      <td>8</td>\n      <td>9</td>\n      <td>12</td>\n      <td>0</td>\n    </tr>\n    <tr>\n      <th>4</th>\n      <td>12</td>\n      <td>0</td>\n      <td>2</td>\n      <td>18</td>\n      <td>2</td>\n      <td>9</td>\n      <td>6</td>\n      <td>11</td>\n      <td>1</td>\n    </tr>\n    <tr>\n      <th>5</th>\n      <td>8</td>\n      <td>0</td>\n      <td>0</td>\n      <td>11</td>\n      <td>10</td>\n      <td>13</td>\n      <td>4</td>\n      <td>4</td>\n      <td>0</td>\n    </tr>\n    <tr>\n      <th>6</th>\n      <td>14</td>\n      <td>0</td>\n      <td>0</td>\n      <td>0</td>\n      <td>8</td>\n      <td>13</td>\n      <td>9</td>\n      <td>0</td>\n      <td>0</td>\n    </tr>\n    <tr>\n      <th>7</th>\n      <td>10</td>\n      <td>0</td>\n      <td>0</td>\n      <td>8</td>\n      <td>0</td>\n      <td>7</td>\n      <td>6</td>\n      <td>9</td>\n      <td>0</td>\n    </tr>\n    <tr>\n      <th>8</th>\n      <td>4</td>\n      <td>0</td>\n      <td>0</td>\n      <td>18</td>\n      <td>2</td>\n      <td>14</td>\n      <td>4</td>\n      <td>1</td>\n      <td>0</td>\n    </tr>\n    <tr>\n      <th>9</th>\n      <td>2</td>\n      <td>1</td>\n      <td>1</td>\n      <td>11</td>\n      <td>2</td>\n      <td>9</td>\n      <td>1</td>\n      <td>8</td>\n      <td>1</td>\n    </tr>\n    <tr>\n      <th>10</th>\n      <td>11</td>\n      <td>3</td>\n      <td>1</td>\n      <td>4</td>\n      <td>2</td>\n      <td>14</td>\n      <td>9</td>\n      <td>12</td>\n      <td>0</td>\n    </tr>\n    <tr>\n      <th>11</th>\n      <td>5</td>\n      <td>3</td>\n      <td>1</td>\n      <td>11</td>\n      <td>2</td>\n      <td>9</td>\n      <td>9</td>\n      <td>12</td>\n      <td>1</td>\n    </tr>\n    <tr>\n      <th>12</th>\n      <td>10</td>\n      <td>1</td>\n      <td>3</td>\n      <td>16</td>\n      <td>7</td>\n      <td>10</td>\n      <td>1</td>\n      <td>7</td>\n      <td>1</td>\n    </tr>\n    <tr>\n      <th>13</th>\n      <td>9</td>\n      <td>0</td>\n      <td>0</td>\n      <td>13</td>\n      <td>2</td>\n      <td>9</td>\n      <td>9</td>\n      <td>7</td>\n      <td>1</td>\n    </tr>\n    <tr>\n      <th>14</th>\n      <td>0</td>\n      <td>3</td>\n      <td>0</td>\n      <td>11</td>\n      <td>2</td>\n      <td>2</td>\n      <td>5</td>\n      <td>1</td>\n      <td>1</td>\n    </tr>\n    <tr>\n      <th>15</th>\n      <td>6</td>\n      <td>2</td>\n      <td>1</td>\n      <td>0</td>\n      <td>9</td>\n      <td>2</td>\n      <td>5</td>\n      <td>10</td>\n      <td>1</td>\n    </tr>\n    <tr>\n      <th>16</th>\n      <td>5</td>\n      <td>2</td>\n      <td>0</td>\n      <td>13</td>\n      <td>8</td>\n      <td>1</td>\n      <td>4</td>\n      <td>9</td>\n      <td>1</td>\n    </tr>\n    <tr>\n      <th>17</th>\n      <td>3</td>\n      <td>3</td>\n      <td>1</td>\n      <td>18</td>\n      <td>3</td>\n      <td>9</td>\n      <td>1</td>\n      <td>5</td>\n      <td>0</td>\n    </tr>\n    <tr>\n      <th>18</th>\n      <td>0</td>\n      <td>5</td>\n      <td>0</td>\n      <td>14</td>\n      <td>2</td>\n      <td>3</td>\n      <td>6</td>\n      <td>0</td>\n      <td>1</td>\n    </tr>\n    <tr>\n      <th>19</th>\n      <td>10</td>\n      <td>1</td>\n      <td>0</td>\n      <td>1</td>\n      <td>3</td>\n      <td>13</td>\n      <td>6</td>\n      <td>13</td>\n      <td>0</td>\n    </tr>\n  </tbody>\n</table>\n</div>"
     },
     "metadata": {},
     "output_type": "execute_result",
     "execution_count": 51
    }
   ],
   "source": [
    "data.head(20)"
   ],
   "metadata": {
    "collapsed": false,
    "pycharm": {
     "name": "#%%\n",
     "is_executing": false
    }
   }
  },
  {
   "cell_type": "code",
   "execution_count": 19,
   "outputs": [],
   "source": [],
   "metadata": {
    "collapsed": false,
    "pycharm": {
     "name": "#%%\n",
     "is_executing": false
    }
   }
  },
  {
   "cell_type": "code",
   "execution_count": 52,
   "outputs": [],
   "source": [
    "from sklearn.ensemble import RandomForestClassifier\n",
    "from sklearn.model_selection import StratifiedKFold"
   ],
   "metadata": {
    "collapsed": false,
    "pycharm": {
     "name": "#%%\n",
     "is_executing": false
    }
   }
  },
  {
   "cell_type": "code",
   "execution_count": 53,
   "outputs": [],
   "source": [
    "rf = RandomForestClassifier(min_samples_split=2, criterion='entropy', max_depth=50, max_features='auto', n_estimators=250)"
   ],
   "metadata": {
    "collapsed": false,
    "pycharm": {
     "name": "#%%\n",
     "is_executing": false
    }
   }
  },
  {
   "cell_type": "code",
   "execution_count": 62,
   "outputs": [
    {
     "name": "stdout",
     "text": [
      "Fold:  1\n",
      "Fold:  2\n",
      "Fold:  3\n",
      "Fold:  4\n",
      "Fold:  5\n",
      "Fold:  6\n",
      "Fold:  7\n",
      "Fold:  8\n",
      "Fold:  9\n",
      "Fold:  10\n",
      "Fold:  1  Accuracy:  0.375\n",
      "Fold:  2  Accuracy:  0.625\n",
      "Fold:  3  Accuracy:  0.5\n",
      "Fold:  4  Accuracy:  0.75\n",
      "Fold:  5  Accuracy:  1.0\n",
      "Fold:  6  Accuracy:  0.625\n",
      "Fold:  7  Accuracy:  0.625\n",
      "Fold:  8  Accuracy:  0.75\n",
      "Fold:  9  Accuracy:  0.5714285714285714\n",
      "Fold:  10  Accuracy:  0.42857142857142855\n",
      "Average accuracy:  0.625\n"
     ],
     "output_type": "stream"
    }
   ],
   "source": [
    "from sklearn.model_selection import KFold\n",
    "X = data\n",
    "y = data_target\n",
    "accuracy = []\n",
    "folds = 10\n",
    "skf = KFold(n_splits=folds)\n",
    "skf.get_n_splits(X,y)\n",
    "i = 1\n",
    "for train_index, test_index in skf.split(X, y):\n",
    "    \n",
    "    print(\"Fold: \", i)\n",
    "    X_train, X_test = X.iloc[train_index], X.iloc[test_index]\n",
    "    y_train, y_test = y[train_index], y[test_index]\n",
    "    \n",
    "    #model\n",
    "    rf.fit(X_train, y_train)\n",
    "    pred = rf.predict(X_test)\n",
    "    score = accuracy_score(pred, y_test)\n",
    "    accuracy.append(score)\n",
    "    i+=1\n",
    "\n",
    "for x in range(0,folds):\n",
    "    print(\"Fold: \", x+1, \" Accuracy: \",  accuracy[x])\n",
    "    \n",
    "print(\"Average accuracy: \", sum(accuracy)/folds)"
   ],
   "metadata": {
    "collapsed": false,
    "pycharm": {
     "name": "#%%\n",
     "is_executing": false
    }
   }
  },
  {
   "cell_type": "code",
   "execution_count": 55,
   "outputs": [],
   "source": [
    "#JD\n",
    "sample = pd.DataFrame({\n",
    "    \"Team\" : [7],\n",
    "    \"Wins\" : [0],\n",
    "    \"Losses\" : [5],\n",
    "    \"Top\" : [0],\n",
    "    \"Jungle\" : [2],\n",
    "    \"Mid\" : [15],\n",
    "    \"Ad carry\" : [1],\n",
    "    \"Support\" : [9],\n",
    "    \"Side\" : [0]\n",
    "})\n",
    "\n",
    "#DMW\n",
    "sample_2 = pd.DataFrame({\n",
    "    \"Team\" : [14],\n",
    "    \"Wins\" : [0],\n",
    "    \"Losses\" : [5],\n",
    "    \"Top\" : [0],\n",
    "    \"Jungle\" : [2],\n",
    "    \"Mid\" : [15],\n",
    "    \"Ad carry\" : [1],\n",
    "    \"Support\" : [15],\n",
    "    \"Side\" : [1]\n",
    "})\n",
    "#TSM\n",
    "sample_3 = pd.DataFrame({\n",
    "    \"Team\" : [3],\n",
    "    \"Wins\" : [3],\n",
    "    \"Losses\" : [1],\n",
    "    \"Top\" : [18],\n",
    "    \"Jungle\" : [3],\n",
    "    \"Mid\" : [9],\n",
    "    \"Ad carry\" : [1],\n",
    "    \"Support\" : [5],\n",
    "    \"Side\" : [0]\n",
    "})"
   ],
   "metadata": {
    "collapsed": false,
    "pycharm": {
     "name": "#%%\n",
     "is_executing": false
    }
   }
  },
  {
   "cell_type": "code",
   "execution_count": 20,
   "outputs": [],
   "source": [
    "pred_2 = rf.predict(sample_3)"
   ],
   "metadata": {
    "collapsed": false,
    "pycharm": {
     "name": "#%%\n",
     "is_executing": false
    }
   }
  },
  {
   "cell_type": "code",
   "execution_count": 21,
   "outputs": [
    {
     "data": {
      "text/plain": "1"
     },
     "metadata": {},
     "output_type": "execute_result",
     "execution_count": 21
    }
   ],
   "source": [
    "pred_2[0]\n"
   ],
   "metadata": {
    "collapsed": false,
    "pycharm": {
     "name": "#%%\n",
     "is_executing": false
    }
   }
  },
  {
   "cell_type": "code",
   "execution_count": 17,
   "outputs": [],
   "source": [],
   "metadata": {
    "collapsed": false,
    "pycharm": {
     "name": "#%%\n",
     "is_executing": false
    }
   }
  },
  {
   "cell_type": "code",
   "execution_count": 17,
   "outputs": [],
   "source": [],
   "metadata": {
    "collapsed": false,
    "pycharm": {
     "name": "#%%\n",
     "is_executing": false
    }
   }
  },
  {
   "cell_type": "code",
   "execution_count": null,
   "outputs": [],
   "source": [
    "\n"
   ],
   "metadata": {
    "collapsed": false,
    "pycharm": {
     "name": "#%%\n"
    }
   }
  }
 ],
 "metadata": {
  "kernelspec": {
   "display_name": "Python 3",
   "language": "python",
   "name": "python3"
  },
  "language_info": {
   "codemirror_mode": {
    "name": "ipython",
    "version": 2
   },
   "file_extension": ".py",
   "mimetype": "text/x-python",
   "name": "python",
   "nbconvert_exporter": "python",
   "pygments_lexer": "ipython2",
   "version": "2.7.6"
  },
  "pycharm": {
   "stem_cell": {
    "cell_type": "raw",
    "source": [],
    "metadata": {
     "collapsed": false
    }
   }
  }
 },
 "nbformat": 4,
 "nbformat_minor": 0
}