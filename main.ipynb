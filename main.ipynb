{
 "cells": [
  {
   "cell_type": "code",
   "execution_count": 66,
   "metadata": {
    "collapsed": true,
    "pycharm": {
     "is_executing": false
    }
   },
   "outputs": [],
   "source": [
    "import pandas as pd\n",
    "import numpy as np\n",
    "from sklearn import preprocessing\n",
    "from sklearn.metrics import confusion_matrix, classification_report, accuracy_score"
   ]
  },
  {
   "cell_type": "code",
   "execution_count": 67,
   "outputs": [
    {
     "data": {
      "text/plain": "    Team  Wins  Losses       Top   Jungle      Mid Ad carry   Support  Side  \\\n0    FLY     0       0  Volibear   Lillia   Syndra     Jhin    Thresh  Blue   \n1    TOP     0       0   Camille   Graves    Akali    Senna      Sett   Red   \n2    UOL     0       0  Renekton  Evelynn  Orianna     Jhin   Alistar  Blue   \n3     DX     0       0      Ornn  Nidalee     Sett     Ashe  Pantheon   Red   \n4  Rogue     0       0  Malphite  Evelynn   Lucian  Kalista     Rakan  Blue   \n\n   Result  \n0       0  \n1       1  \n2       0  \n3       1  \n4       1  ",
      "text/html": "<div>\n<style scoped>\n    .dataframe tbody tr th:only-of-type {\n        vertical-align: middle;\n    }\n\n    .dataframe tbody tr th {\n        vertical-align: top;\n    }\n\n    .dataframe thead th {\n        text-align: right;\n    }\n</style>\n<table border=\"1\" class=\"dataframe\">\n  <thead>\n    <tr style=\"text-align: right;\">\n      <th></th>\n      <th>Team</th>\n      <th>Wins</th>\n      <th>Losses</th>\n      <th>Top</th>\n      <th>Jungle</th>\n      <th>Mid</th>\n      <th>Ad carry</th>\n      <th>Support</th>\n      <th>Side</th>\n      <th>Result</th>\n    </tr>\n  </thead>\n  <tbody>\n    <tr>\n      <th>0</th>\n      <td>FLY</td>\n      <td>0</td>\n      <td>0</td>\n      <td>Volibear</td>\n      <td>Lillia</td>\n      <td>Syndra</td>\n      <td>Jhin</td>\n      <td>Thresh</td>\n      <td>Blue</td>\n      <td>0</td>\n    </tr>\n    <tr>\n      <th>1</th>\n      <td>TOP</td>\n      <td>0</td>\n      <td>0</td>\n      <td>Camille</td>\n      <td>Graves</td>\n      <td>Akali</td>\n      <td>Senna</td>\n      <td>Sett</td>\n      <td>Red</td>\n      <td>1</td>\n    </tr>\n    <tr>\n      <th>2</th>\n      <td>UOL</td>\n      <td>0</td>\n      <td>0</td>\n      <td>Renekton</td>\n      <td>Evelynn</td>\n      <td>Orianna</td>\n      <td>Jhin</td>\n      <td>Alistar</td>\n      <td>Blue</td>\n      <td>0</td>\n    </tr>\n    <tr>\n      <th>3</th>\n      <td>DX</td>\n      <td>0</td>\n      <td>0</td>\n      <td>Ornn</td>\n      <td>Nidalee</td>\n      <td>Sett</td>\n      <td>Ashe</td>\n      <td>Pantheon</td>\n      <td>Red</td>\n      <td>1</td>\n    </tr>\n    <tr>\n      <th>4</th>\n      <td>Rogue</td>\n      <td>0</td>\n      <td>0</td>\n      <td>Malphite</td>\n      <td>Evelynn</td>\n      <td>Lucian</td>\n      <td>Kalista</td>\n      <td>Rakan</td>\n      <td>Blue</td>\n      <td>1</td>\n    </tr>\n  </tbody>\n</table>\n</div>"
     },
     "metadata": {},
     "output_type": "execute_result",
     "execution_count": 67
    }
   ],
   "source": [
    "data = pd.read_csv(\"worlds2020.csv\", delimiter=\";\")\n",
    "data.head()"
   ],
   "metadata": {
    "collapsed": false,
    "pycharm": {
     "name": "#%%\n",
     "is_executing": false
    }
   }
  },
  {
   "cell_type": "code",
   "execution_count": 68,
   "outputs": [],
   "source": [
    "data_2 = pd.read_csv(\"worlds2020.csv\", delimiter=\";\")\n",
    "data = data.sample(frac=1).reset_index(drop=True)\n"
   ],
   "metadata": {
    "collapsed": false,
    "pycharm": {
     "name": "#%%\n",
     "is_executing": false
    }
   }
  },
  {
   "cell_type": "code",
   "execution_count": 69,
   "outputs": [],
   "source": [
    "data_target = data[\"Result\"].values\n",
    "data = data.drop([\"Result\"], axis=1)"
   ],
   "metadata": {
    "collapsed": false,
    "pycharm": {
     "name": "#%%\n",
     "is_executing": false
    }
   }
  },
  {
   "cell_type": "code",
   "execution_count": 70,
   "outputs": [
    {
     "data": {
      "text/plain": "      Team  Wins  Losses       Top   Jungle           Mid      Ad carry  \\\n0      TSM     0       4  Volibear   Lillia        Lucian      Aphelios   \n1      TOP     0       0   Camille   Graves         Akali         Senna   \n2   Suning     2       1    Irelia   Graves         Galio          Jhin   \n3      PSG     0       1      Ornn   Graves        Syndra          Jhin   \n4      FLY     0       0  Volibear   Lillia        Syndra          Jhin   \n5       TL     0       4  Malphite   Lillia          Sett          Jhin   \n6      DWG     4       0    Kennen   Graves  Twisted Fate         Senna   \n7       JD     2       1   Camille    Sylas          Ekko          Jhin   \n8   Suning     0       1       Jax  Nidalee         Galio        Draven   \n9    Rogue     1       2      Ornn   Graves       Orianna       Kalista   \n10  Suning     1       1       Jax  Nidalee        Syndra        Ezreal   \n11  Suning     3       1     Jayce   Graves  Twisted Fate         Senna   \n12     PSG     0       4      Ornn  Kindred        Syndra       Caitlyn   \n13     DWG     1       0      Lulu   Graves         Sylas          Ashe   \n14     DWG     0       0   Camille  Nidalee  Twisted Fate          Jhin   \n15   Rogue     0       0  Malphite  Evelynn        Lucian       Kalista   \n16     TOP     1       0  Renekton  Nidalee      Nocturne         Senna   \n17      G2     4       1  Renekton   Graves          Ekko       Kalista   \n18     LGD     0       1      Ornn  Kindred          Ekko  Miss Fortune   \n19      JD     0       1      Sett    Sylas          Ekko          Ashe   \n\n       Support  Side  \n0       Thresh  Blue  \n1         Sett   Red  \n2         Bard   Red  \n3         Bard  Blue  \n4       Thresh  Blue  \n5         Bard   Red  \n6        Leona  Blue  \n7        Senna   Red  \n8        Leona   Red  \n9     Pantheon  Blue  \n10        Bard  Blue  \n11  Tahm Kench  Blue  \n12         Lux   Red  \n13    Pantheon   Red  \n14       Leona  Blue  \n15       Rakan  Blue  \n16  Tahm Kench  Blue  \n17       Senna   Red  \n18    Nautilus  Blue  \n19    Pantheon   Red  ",
      "text/html": "<div>\n<style scoped>\n    .dataframe tbody tr th:only-of-type {\n        vertical-align: middle;\n    }\n\n    .dataframe tbody tr th {\n        vertical-align: top;\n    }\n\n    .dataframe thead th {\n        text-align: right;\n    }\n</style>\n<table border=\"1\" class=\"dataframe\">\n  <thead>\n    <tr style=\"text-align: right;\">\n      <th></th>\n      <th>Team</th>\n      <th>Wins</th>\n      <th>Losses</th>\n      <th>Top</th>\n      <th>Jungle</th>\n      <th>Mid</th>\n      <th>Ad carry</th>\n      <th>Support</th>\n      <th>Side</th>\n    </tr>\n  </thead>\n  <tbody>\n    <tr>\n      <th>0</th>\n      <td>TSM</td>\n      <td>0</td>\n      <td>4</td>\n      <td>Volibear</td>\n      <td>Lillia</td>\n      <td>Lucian</td>\n      <td>Aphelios</td>\n      <td>Thresh</td>\n      <td>Blue</td>\n    </tr>\n    <tr>\n      <th>1</th>\n      <td>TOP</td>\n      <td>0</td>\n      <td>0</td>\n      <td>Camille</td>\n      <td>Graves</td>\n      <td>Akali</td>\n      <td>Senna</td>\n      <td>Sett</td>\n      <td>Red</td>\n    </tr>\n    <tr>\n      <th>2</th>\n      <td>Suning</td>\n      <td>2</td>\n      <td>1</td>\n      <td>Irelia</td>\n      <td>Graves</td>\n      <td>Galio</td>\n      <td>Jhin</td>\n      <td>Bard</td>\n      <td>Red</td>\n    </tr>\n    <tr>\n      <th>3</th>\n      <td>PSG</td>\n      <td>0</td>\n      <td>1</td>\n      <td>Ornn</td>\n      <td>Graves</td>\n      <td>Syndra</td>\n      <td>Jhin</td>\n      <td>Bard</td>\n      <td>Blue</td>\n    </tr>\n    <tr>\n      <th>4</th>\n      <td>FLY</td>\n      <td>0</td>\n      <td>0</td>\n      <td>Volibear</td>\n      <td>Lillia</td>\n      <td>Syndra</td>\n      <td>Jhin</td>\n      <td>Thresh</td>\n      <td>Blue</td>\n    </tr>\n    <tr>\n      <th>5</th>\n      <td>TL</td>\n      <td>0</td>\n      <td>4</td>\n      <td>Malphite</td>\n      <td>Lillia</td>\n      <td>Sett</td>\n      <td>Jhin</td>\n      <td>Bard</td>\n      <td>Red</td>\n    </tr>\n    <tr>\n      <th>6</th>\n      <td>DWG</td>\n      <td>4</td>\n      <td>0</td>\n      <td>Kennen</td>\n      <td>Graves</td>\n      <td>Twisted Fate</td>\n      <td>Senna</td>\n      <td>Leona</td>\n      <td>Blue</td>\n    </tr>\n    <tr>\n      <th>7</th>\n      <td>JD</td>\n      <td>2</td>\n      <td>1</td>\n      <td>Camille</td>\n      <td>Sylas</td>\n      <td>Ekko</td>\n      <td>Jhin</td>\n      <td>Senna</td>\n      <td>Red</td>\n    </tr>\n    <tr>\n      <th>8</th>\n      <td>Suning</td>\n      <td>0</td>\n      <td>1</td>\n      <td>Jax</td>\n      <td>Nidalee</td>\n      <td>Galio</td>\n      <td>Draven</td>\n      <td>Leona</td>\n      <td>Red</td>\n    </tr>\n    <tr>\n      <th>9</th>\n      <td>Rogue</td>\n      <td>1</td>\n      <td>2</td>\n      <td>Ornn</td>\n      <td>Graves</td>\n      <td>Orianna</td>\n      <td>Kalista</td>\n      <td>Pantheon</td>\n      <td>Blue</td>\n    </tr>\n    <tr>\n      <th>10</th>\n      <td>Suning</td>\n      <td>1</td>\n      <td>1</td>\n      <td>Jax</td>\n      <td>Nidalee</td>\n      <td>Syndra</td>\n      <td>Ezreal</td>\n      <td>Bard</td>\n      <td>Blue</td>\n    </tr>\n    <tr>\n      <th>11</th>\n      <td>Suning</td>\n      <td>3</td>\n      <td>1</td>\n      <td>Jayce</td>\n      <td>Graves</td>\n      <td>Twisted Fate</td>\n      <td>Senna</td>\n      <td>Tahm Kench</td>\n      <td>Blue</td>\n    </tr>\n    <tr>\n      <th>12</th>\n      <td>PSG</td>\n      <td>0</td>\n      <td>4</td>\n      <td>Ornn</td>\n      <td>Kindred</td>\n      <td>Syndra</td>\n      <td>Caitlyn</td>\n      <td>Lux</td>\n      <td>Red</td>\n    </tr>\n    <tr>\n      <th>13</th>\n      <td>DWG</td>\n      <td>1</td>\n      <td>0</td>\n      <td>Lulu</td>\n      <td>Graves</td>\n      <td>Sylas</td>\n      <td>Ashe</td>\n      <td>Pantheon</td>\n      <td>Red</td>\n    </tr>\n    <tr>\n      <th>14</th>\n      <td>DWG</td>\n      <td>0</td>\n      <td>0</td>\n      <td>Camille</td>\n      <td>Nidalee</td>\n      <td>Twisted Fate</td>\n      <td>Jhin</td>\n      <td>Leona</td>\n      <td>Blue</td>\n    </tr>\n    <tr>\n      <th>15</th>\n      <td>Rogue</td>\n      <td>0</td>\n      <td>0</td>\n      <td>Malphite</td>\n      <td>Evelynn</td>\n      <td>Lucian</td>\n      <td>Kalista</td>\n      <td>Rakan</td>\n      <td>Blue</td>\n    </tr>\n    <tr>\n      <th>16</th>\n      <td>TOP</td>\n      <td>1</td>\n      <td>0</td>\n      <td>Renekton</td>\n      <td>Nidalee</td>\n      <td>Nocturne</td>\n      <td>Senna</td>\n      <td>Tahm Kench</td>\n      <td>Blue</td>\n    </tr>\n    <tr>\n      <th>17</th>\n      <td>G2</td>\n      <td>4</td>\n      <td>1</td>\n      <td>Renekton</td>\n      <td>Graves</td>\n      <td>Ekko</td>\n      <td>Kalista</td>\n      <td>Senna</td>\n      <td>Red</td>\n    </tr>\n    <tr>\n      <th>18</th>\n      <td>LGD</td>\n      <td>0</td>\n      <td>1</td>\n      <td>Ornn</td>\n      <td>Kindred</td>\n      <td>Ekko</td>\n      <td>Miss Fortune</td>\n      <td>Nautilus</td>\n      <td>Blue</td>\n    </tr>\n    <tr>\n      <th>19</th>\n      <td>JD</td>\n      <td>0</td>\n      <td>1</td>\n      <td>Sett</td>\n      <td>Sylas</td>\n      <td>Ekko</td>\n      <td>Ashe</td>\n      <td>Pantheon</td>\n      <td>Red</td>\n    </tr>\n  </tbody>\n</table>\n</div>"
     },
     "metadata": {},
     "output_type": "execute_result",
     "execution_count": 70
    }
   ],
   "source": [
    "data.head(20)"
   ],
   "metadata": {
    "collapsed": false,
    "pycharm": {
     "name": "#%%\n",
     "is_executing": false
    }
   }
  },
  {
   "cell_type": "code",
   "execution_count": 71,
   "outputs": [],
   "source": [
    "le = preprocessing.LabelEncoder()"
   ],
   "metadata": {
    "collapsed": false,
    "pycharm": {
     "name": "#%%\n",
     "is_executing": false
    }
   }
  },
  {
   "cell_type": "code",
   "execution_count": 72,
   "outputs": [],
   "source": [
    "team = data[\"Team\"].values\n",
    "top = data[\"Top\"].values\n",
    "jungle = data[\"Jungle\"].values\n",
    "mid = data[\"Mid\"].values\n",
    "adc = data[\"Ad carry\"].values\n",
    "supp = data[\"Support\"].values\n",
    "side = data[\"Side\"].values"
   ],
   "metadata": {
    "collapsed": false,
    "pycharm": {
     "name": "#%%\n",
     "is_executing": false
    }
   }
  },
  {
   "cell_type": "code",
   "execution_count": 73,
   "outputs": [],
   "source": [
    "data[\"Team\"] = le.fit_transform(team)\n",
    "data[\"Top\"] = le.fit_transform(top)\n",
    "data[\"Jungle\"] = le.fit_transform(jungle)\n",
    "data[\"Mid\"] = le.fit_transform(mid)\n",
    "data[\"Ad carry\"] = le.fit_transform(adc)\n",
    "data[\"Support\"] = le.fit_transform(supp)\n",
    "data[\"Side\"] = le.fit_transform(side)\n",
    "\n"
   ],
   "metadata": {
    "collapsed": false,
    "pycharm": {
     "name": "#%%\n",
     "is_executing": false
    }
   }
  },
  {
   "cell_type": "code",
   "execution_count": 74,
   "outputs": [
    {
     "data": {
      "text/plain": "    Team  Wins  Losses  Top  Jungle  Mid  Ad carry  Support  Side\n0     14     0       4   18       7    7         0       14     0\n1     13     0       0    0       2    0         9       11     1\n2     11     2       1    2       2    3         5        1     1\n3      9     0       1   11       2   13         5        1     0\n4      2     0       0   18       7   13         5       14     0\n5     12     0       4    8       7   11         5        1     1\n6      0     4       0    6       2   14         9        5     0\n7      6     2       1    0       9    2         5       10     1\n8     11     0       1    3       8    3         3        5     1\n9     10     1       2   11       2    9         6        8     0\n10    11     1       1    3       8   13         4        1     0\n11    11     3       1    4       2   14         9       12     0\n12     9     0       4   11       5   13         2        6     1\n13     0     1       0    7       2   12         1        8     1\n14     0     0       0    0       8   14         5        5     0\n15    10     0       0    8       0    7         6        9     0\n16    13     1       0   13       8    8         9       12     0\n17     4     4       1   13       2    2         6       10     1\n18     7     0       1   11       5    2         8        7     0\n19     6     0       1   14       9    2         1        8     1",
      "text/html": "<div>\n<style scoped>\n    .dataframe tbody tr th:only-of-type {\n        vertical-align: middle;\n    }\n\n    .dataframe tbody tr th {\n        vertical-align: top;\n    }\n\n    .dataframe thead th {\n        text-align: right;\n    }\n</style>\n<table border=\"1\" class=\"dataframe\">\n  <thead>\n    <tr style=\"text-align: right;\">\n      <th></th>\n      <th>Team</th>\n      <th>Wins</th>\n      <th>Losses</th>\n      <th>Top</th>\n      <th>Jungle</th>\n      <th>Mid</th>\n      <th>Ad carry</th>\n      <th>Support</th>\n      <th>Side</th>\n    </tr>\n  </thead>\n  <tbody>\n    <tr>\n      <th>0</th>\n      <td>14</td>\n      <td>0</td>\n      <td>4</td>\n      <td>18</td>\n      <td>7</td>\n      <td>7</td>\n      <td>0</td>\n      <td>14</td>\n      <td>0</td>\n    </tr>\n    <tr>\n      <th>1</th>\n      <td>13</td>\n      <td>0</td>\n      <td>0</td>\n      <td>0</td>\n      <td>2</td>\n      <td>0</td>\n      <td>9</td>\n      <td>11</td>\n      <td>1</td>\n    </tr>\n    <tr>\n      <th>2</th>\n      <td>11</td>\n      <td>2</td>\n      <td>1</td>\n      <td>2</td>\n      <td>2</td>\n      <td>3</td>\n      <td>5</td>\n      <td>1</td>\n      <td>1</td>\n    </tr>\n    <tr>\n      <th>3</th>\n      <td>9</td>\n      <td>0</td>\n      <td>1</td>\n      <td>11</td>\n      <td>2</td>\n      <td>13</td>\n      <td>5</td>\n      <td>1</td>\n      <td>0</td>\n    </tr>\n    <tr>\n      <th>4</th>\n      <td>2</td>\n      <td>0</td>\n      <td>0</td>\n      <td>18</td>\n      <td>7</td>\n      <td>13</td>\n      <td>5</td>\n      <td>14</td>\n      <td>0</td>\n    </tr>\n    <tr>\n      <th>5</th>\n      <td>12</td>\n      <td>0</td>\n      <td>4</td>\n      <td>8</td>\n      <td>7</td>\n      <td>11</td>\n      <td>5</td>\n      <td>1</td>\n      <td>1</td>\n    </tr>\n    <tr>\n      <th>6</th>\n      <td>0</td>\n      <td>4</td>\n      <td>0</td>\n      <td>6</td>\n      <td>2</td>\n      <td>14</td>\n      <td>9</td>\n      <td>5</td>\n      <td>0</td>\n    </tr>\n    <tr>\n      <th>7</th>\n      <td>6</td>\n      <td>2</td>\n      <td>1</td>\n      <td>0</td>\n      <td>9</td>\n      <td>2</td>\n      <td>5</td>\n      <td>10</td>\n      <td>1</td>\n    </tr>\n    <tr>\n      <th>8</th>\n      <td>11</td>\n      <td>0</td>\n      <td>1</td>\n      <td>3</td>\n      <td>8</td>\n      <td>3</td>\n      <td>3</td>\n      <td>5</td>\n      <td>1</td>\n    </tr>\n    <tr>\n      <th>9</th>\n      <td>10</td>\n      <td>1</td>\n      <td>2</td>\n      <td>11</td>\n      <td>2</td>\n      <td>9</td>\n      <td>6</td>\n      <td>8</td>\n      <td>0</td>\n    </tr>\n    <tr>\n      <th>10</th>\n      <td>11</td>\n      <td>1</td>\n      <td>1</td>\n      <td>3</td>\n      <td>8</td>\n      <td>13</td>\n      <td>4</td>\n      <td>1</td>\n      <td>0</td>\n    </tr>\n    <tr>\n      <th>11</th>\n      <td>11</td>\n      <td>3</td>\n      <td>1</td>\n      <td>4</td>\n      <td>2</td>\n      <td>14</td>\n      <td>9</td>\n      <td>12</td>\n      <td>0</td>\n    </tr>\n    <tr>\n      <th>12</th>\n      <td>9</td>\n      <td>0</td>\n      <td>4</td>\n      <td>11</td>\n      <td>5</td>\n      <td>13</td>\n      <td>2</td>\n      <td>6</td>\n      <td>1</td>\n    </tr>\n    <tr>\n      <th>13</th>\n      <td>0</td>\n      <td>1</td>\n      <td>0</td>\n      <td>7</td>\n      <td>2</td>\n      <td>12</td>\n      <td>1</td>\n      <td>8</td>\n      <td>1</td>\n    </tr>\n    <tr>\n      <th>14</th>\n      <td>0</td>\n      <td>0</td>\n      <td>0</td>\n      <td>0</td>\n      <td>8</td>\n      <td>14</td>\n      <td>5</td>\n      <td>5</td>\n      <td>0</td>\n    </tr>\n    <tr>\n      <th>15</th>\n      <td>10</td>\n      <td>0</td>\n      <td>0</td>\n      <td>8</td>\n      <td>0</td>\n      <td>7</td>\n      <td>6</td>\n      <td>9</td>\n      <td>0</td>\n    </tr>\n    <tr>\n      <th>16</th>\n      <td>13</td>\n      <td>1</td>\n      <td>0</td>\n      <td>13</td>\n      <td>8</td>\n      <td>8</td>\n      <td>9</td>\n      <td>12</td>\n      <td>0</td>\n    </tr>\n    <tr>\n      <th>17</th>\n      <td>4</td>\n      <td>4</td>\n      <td>1</td>\n      <td>13</td>\n      <td>2</td>\n      <td>2</td>\n      <td>6</td>\n      <td>10</td>\n      <td>1</td>\n    </tr>\n    <tr>\n      <th>18</th>\n      <td>7</td>\n      <td>0</td>\n      <td>1</td>\n      <td>11</td>\n      <td>5</td>\n      <td>2</td>\n      <td>8</td>\n      <td>7</td>\n      <td>0</td>\n    </tr>\n    <tr>\n      <th>19</th>\n      <td>6</td>\n      <td>0</td>\n      <td>1</td>\n      <td>14</td>\n      <td>9</td>\n      <td>2</td>\n      <td>1</td>\n      <td>8</td>\n      <td>1</td>\n    </tr>\n  </tbody>\n</table>\n</div>"
     },
     "metadata": {},
     "output_type": "execute_result",
     "execution_count": 74
    }
   ],
   "source": [
    "data.head(20)"
   ],
   "metadata": {
    "collapsed": false,
    "pycharm": {
     "name": "#%%\n",
     "is_executing": false
    }
   }
  },
  {
   "cell_type": "code",
   "execution_count": 19,
   "outputs": [],
   "source": [],
   "metadata": {
    "collapsed": false,
    "pycharm": {
     "name": "#%%\n",
     "is_executing": false
    }
   }
  },
  {
   "cell_type": "code",
   "execution_count": 75,
   "outputs": [],
   "source": [
    "from sklearn.ensemble import RandomForestClassifier\n",
    "from sklearn.model_selection import StratifiedKFold"
   ],
   "metadata": {
    "collapsed": false,
    "pycharm": {
     "name": "#%%\n",
     "is_executing": false
    }
   }
  },
  {
   "cell_type": "code",
   "execution_count": 76,
   "outputs": [],
   "source": [
    "rf = RandomForestClassifier(min_samples_split=2, criterion='entropy', max_depth=50, max_features='auto', n_estimators=250)"
   ],
   "metadata": {
    "collapsed": false,
    "pycharm": {
     "name": "#%%\n",
     "is_executing": false
    }
   }
  },
  {
   "cell_type": "code",
   "execution_count": 77,
   "outputs": [
    {
     "name": "stdout",
     "text": [
      "Fold:  1\n",
      "Fold:  2\n",
      "Fold:  3\n",
      "Fold:  4\n",
      "Fold:  5\n",
      "Fold:  6\n",
      "Fold:  7\n",
      "Fold:  8\n",
      "Fold:  9\n",
      "Fold:  10\n",
      "Fold:  1  Accuracy:  0.75\n",
      "Fold:  2  Accuracy:  0.5\n",
      "Fold:  3  Accuracy:  0.625\n",
      "Fold:  4  Accuracy:  0.875\n",
      "Fold:  5  Accuracy:  0.75\n",
      "Fold:  6  Accuracy:  0.75\n",
      "Fold:  7  Accuracy:  0.625\n",
      "Fold:  8  Accuracy:  0.5\n",
      "Fold:  9  Accuracy:  0.5714285714285714\n",
      "Fold:  10  Accuracy:  0.5714285714285714\n",
      "Average accuracy:  0.6517857142857142\n"
     ],
     "output_type": "stream"
    }
   ],
   "source": [
    "from sklearn.model_selection import KFold\n",
    "X = data\n",
    "y = data_target\n",
    "accuracy = []\n",
    "folds = 10\n",
    "skf = KFold(n_splits=folds)\n",
    "skf.get_n_splits(X,y)\n",
    "i = 1\n",
    "for train_index, test_index in skf.split(X, y):\n",
    "    \n",
    "    print(\"Fold: \", i)\n",
    "    X_train, X_test = X.iloc[train_index], X.iloc[test_index]\n",
    "    y_train, y_test = y[train_index], y[test_index]\n",
    "    \n",
    "    #model\n",
    "    rf.fit(X_train, y_train)\n",
    "    pred = rf.predict(X_test)\n",
    "    score = accuracy_score(pred, y_test)\n",
    "    accuracy.append(score)\n",
    "    i+=1\n",
    "\n",
    "for x in range(0,folds):\n",
    "    print(\"Fold: \", x+1, \" Accuracy: \",  accuracy[x])\n",
    "    \n",
    "print(\"Average accuracy: \", sum(accuracy)/folds)"
   ],
   "metadata": {
    "collapsed": false,
    "pycharm": {
     "name": "#%%\n",
     "is_executing": false
    }
   }
  },
  {
   "cell_type": "code",
   "execution_count": 78,
   "outputs": [],
   "source": [
    "#JD\n",
    "sample = pd.DataFrame({\n",
    "    \"Team\" : [7],\n",
    "    \"Wins\" : [0],\n",
    "    \"Losses\" : [5],\n",
    "    \"Top\" : [0],\n",
    "    \"Jungle\" : [2],\n",
    "    \"Mid\" : [15],\n",
    "    \"Ad carry\" : [1],\n",
    "    \"Support\" : [9],\n",
    "    \"Side\" : [0]\n",
    "})\n",
    "\n",
    "#DMW\n",
    "sample_2 = pd.DataFrame({\n",
    "    \"Team\" : [14],\n",
    "    \"Wins\" : [0],\n",
    "    \"Losses\" : [5],\n",
    "    \"Top\" : [0],\n",
    "    \"Jungle\" : [2],\n",
    "    \"Mid\" : [15],\n",
    "    \"Ad carry\" : [1],\n",
    "    \"Support\" : [15],\n",
    "    \"Side\" : [1]\n",
    "})\n",
    "#TSM\n",
    "sample_3 = pd.DataFrame({\n",
    "    \"Team\" : [3],\n",
    "    \"Wins\" : [3],\n",
    "    \"Losses\" : [1],\n",
    "    \"Top\" : [18],\n",
    "    \"Jungle\" : [3],\n",
    "    \"Mid\" : [9],\n",
    "    \"Ad carry\" : [1],\n",
    "    \"Support\" : [5],\n",
    "    \"Side\" : [0]\n",
    "})"
   ],
   "metadata": {
    "collapsed": false,
    "pycharm": {
     "name": "#%%\n",
     "is_executing": false
    }
   }
  },
  {
   "cell_type": "code",
   "execution_count": 79,
   "outputs": [],
   "source": [
    "pred_2 = rf.predict(sample_3)"
   ],
   "metadata": {
    "collapsed": false,
    "pycharm": {
     "name": "#%%\n",
     "is_executing": false
    }
   }
  },
  {
   "cell_type": "code",
   "execution_count": 80,
   "outputs": [
    {
     "data": {
      "text/plain": "1"
     },
     "metadata": {},
     "output_type": "execute_result",
     "execution_count": 80
    }
   ],
   "source": [
    "pred_2[0]\n"
   ],
   "metadata": {
    "collapsed": false,
    "pycharm": {
     "name": "#%%\n",
     "is_executing": false
    }
   }
  },
  {
   "cell_type": "code",
   "execution_count": 17,
   "outputs": [],
   "source": [],
   "metadata": {
    "collapsed": false,
    "pycharm": {
     "name": "#%%\n",
     "is_executing": false
    }
   }
  },
  {
   "cell_type": "code",
   "execution_count": 17,
   "outputs": [],
   "source": [],
   "metadata": {
    "collapsed": false,
    "pycharm": {
     "name": "#%%\n",
     "is_executing": false
    }
   }
  },
  {
   "cell_type": "code",
   "execution_count": null,
   "outputs": [],
   "source": [
    "\n"
   ],
   "metadata": {
    "collapsed": false,
    "pycharm": {
     "name": "#%%\n"
    }
   }
  }
 ],
 "metadata": {
  "kernelspec": {
   "display_name": "Python 3",
   "language": "python",
   "name": "python3"
  },
  "language_info": {
   "codemirror_mode": {
    "name": "ipython",
    "version": 2
   },
   "file_extension": ".py",
   "mimetype": "text/x-python",
   "name": "python",
   "nbconvert_exporter": "python",
   "pygments_lexer": "ipython2",
   "version": "2.7.6"
  },
  "pycharm": {
   "stem_cell": {
    "cell_type": "raw",
    "source": [],
    "metadata": {
     "collapsed": false
    }
   }
  }
 },
 "nbformat": 4,
 "nbformat_minor": 0
}