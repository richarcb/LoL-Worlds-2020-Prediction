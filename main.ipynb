{
 "cells": [
  {
   "cell_type": "code",
   "execution_count": 1,
   "metadata": {
    "collapsed": true,
    "pycharm": {
     "is_executing": false
    }
   },
   "outputs": [],
   "source": [
    "import pandas as pd\n",
    "import numpy as np\n",
    "from sklearn import preprocessing\n",
    "from sklearn.metrics import confusion_matrix, classification_report, accuracy_score"
   ]
  },
  {
   "cell_type": "code",
   "execution_count": 2,
   "outputs": [],
   "source": [
    "data = pd.read_csv(\"worlds2020.csv\", delimiter=\";\")\n",
    "data_2 = pd.read_csv(\"worlds2020.csv\", delimiter=\";\")\n",
    "data = data.sample(frac=1).reset_index(drop=True)"
   ],
   "metadata": {
    "collapsed": false,
    "pycharm": {
     "name": "#%%\n",
     "is_executing": false
    }
   }
  },
  {
   "cell_type": "code",
   "execution_count": 3,
   "outputs": [],
   "source": [
    "data_target = data[\"Result\"].values\n",
    "data = data.drop([\"Result\"], axis=1)"
   ],
   "metadata": {
    "collapsed": false,
    "pycharm": {
     "name": "#%%\n",
     "is_executing": false
    }
   }
  },
  {
   "cell_type": "code",
   "execution_count": 4,
   "outputs": [
    {
     "data": {
      "text/plain": "      Team  Wins  Losses          Top    Jungle           Mid      Ad carry  \\\n0      TSM     0       2         Shen    Graves       LeBlanc        Ezreal   \n1   Fnatic     3       1     Volibear   Hecarim       Orianna          Ashe   \n2      MCX     1       2        Jayce  Volibear        Syndra          Ashe   \n3       TL     0       4     Malphite    Lillia          Sett          Jhin   \n4       JD     2       1      Camille     Sylas          Ekko          Jhin   \n5      TSM     0       1     Renekton   Nidalee        Zilean         Senna   \n6   Suning     3       1        Jayce    Graves  Twisted Fate         Senna   \n7       TL     0       2     Volibear    Graves       Orianna       Kalista   \n8       TL     1       4         Shen    Lillia        Syndra         Senna   \n9    Rogue     1       2         Ornn    Graves       Orianna       Kalista   \n10     MCX     1       0  Mordekaiser    Graves        Syndra         Senna   \n11     TOP     0       0      Camille    Graves         Akali         Senna   \n12     GEN     2       1     Volibear   Nidalee          Azir         Senna   \n13     LGD     0       1         Ornn   Kindred          Ekko  Miss Fortune   \n14  Suning     4       1      Camille    Jarvan        Syndra        Ezreal   \n15   Rogue     1       0    Gangplank   Hecarim        Syndra       Kalista   \n16     PSG     0       3    Gangplank   Kindred        Syndra          Ashe   \n17     GEN     1       0     Volibear    Lillia          Sett        Ezreal   \n18     MCX     0       0         Ornn  Volibear        Syndra        Ezreal   \n19     MCX     1       1         Shen  Volibear          Azir          Ashe   \n20  Suning     2       1       Irelia    Graves         Galio          Jhin   \n21     LGD     2       1     Renekton    Lillia       Orianna          Jhin   \n22     DWG     3       0         Ornn    Graves          Ekko          Jhin   \n23      TL     0       1     Volibear   Lee Sin        Syndra        Twitch   \n24     DWG     5       0         Sett    Graves         Galio       Kalista   \n25      JD     0       0     Volibear    Lillia         Jayce          Ashe   \n26      DX     0       2       Maokai   Kindred           Zoe       Caitlyn   \n27      G2     1       0      Camille   Nidalee         Galio          Ashe   \n28      JD     0       1         Sett     Sylas          Ekko          Ashe   \n29     FLY     0       1     Renekton  Volibear        Syndra  Miss Fortune   \n30      JD     3       2      Camille    Lillia  Twisted Fate  Miss Fortune   \n31      G2     3       0        Sylas  Volibear          Ekko          Ashe   \n32     UOL     0       2      Camille   Lee Sin        Syndra       Karthus   \n33      DX     0       1        Quinn   Lee Sin  Twisted Fate        Draven   \n34     PSG     0       4         Ornn   Kindred        Syndra       Caitlyn   \n35     DWG     4       0       Kennen    Graves  Twisted Fate         Senna   \n36     TSM     0       3      Camille   Nidalee         Galio          Jhin   \n37     DWG     2       0       Kennen    Graves        Syndra         Senna   \n38     DWG     0       0      Camille   Nidalee  Twisted Fate          Jhin   \n39      G2     0       0     Volibear    Graves  Twisted Fate        Ezreal   \n40     TOP     2       0          Jax    Gragas        Lucian         Senna   \n41      G2     2       0     Renekton   Nidalee         Jayce          Ashe   \n42     DWG     1       0         Lulu    Graves         Sylas          Ashe   \n43     FLY     1       1         Ornn    Graves       Orianna          Ashe   \n44     GEN     2       0     Renekton   Nidalee          Azir        Ezreal   \n45     MCX     1       3         Ornn    Graves       Orianna        Ezreal   \n46     LGD     1       1     Renekton    Lillia       Orianna         Senna   \n47     UOL     0       0     Renekton   Evelynn       Orianna          Jhin   \n48     GEN     0       0     Volibear    Gragas        Lucian          Ashe   \n49      TL     0       3         Lulu   Hecarim        Syndra       Kalista   \n\n       Support  Side  \n0         Bard  Blue  \n1        Leona  Blue  \n2     Nautilus  Blue  \n3         Bard   Red  \n4        Senna   Red  \n5        Rakan   Red  \n6   Tahm Kench  Blue  \n7         Sett   Red  \n8          Pan  Blue  \n9     Pantheon  Blue  \n10    Pantheon  Blue  \n11        Sett   Red  \n12  Tahm Kench   Red  \n13    Nautilus  Blue  \n14        Bard  Blue  \n15       Taric  Blue  \n16  Tahm Kench  Blue  \n17       Karma  Blue  \n18       Karma  Blue  \n19       Rakan   Red  \n20        Bard   Red  \n21    Pantheon  Blue  \n22        Bard   Red  \n23       Rakan  Blue  \n24     Alistar   Red  \n25    Nautilus   Red  \n26         Lux  Blue  \n27  Tahm Kench   Red  \n28    Pantheon   Red  \n29       Rakan  Blue  \n30        Bard  Blue  \n31  Tahm Kench   Red  \n32    Nautilus   Red  \n33      Thresh   Red  \n34         Lux   Red  \n35       Leona  Blue  \n36       Leona   Red  \n37      Thresh  Blue  \n38       Leona  Blue  \n39        Bard  Blue  \n40  Tahm Kench  Blue  \n41     Alistar  Blue  \n42    Pantheon   Red  \n43    Pantheon   Red  \n44       Rakan   Red  \n45     Alistar   Red  \n46    Nautilus   Red  \n47     Alistar  Blue  \n48        Sett  Blue  \n49        Sett  Blue  ",
      "text/html": "<div>\n<style scoped>\n    .dataframe tbody tr th:only-of-type {\n        vertical-align: middle;\n    }\n\n    .dataframe tbody tr th {\n        vertical-align: top;\n    }\n\n    .dataframe thead th {\n        text-align: right;\n    }\n</style>\n<table border=\"1\" class=\"dataframe\">\n  <thead>\n    <tr style=\"text-align: right;\">\n      <th></th>\n      <th>Team</th>\n      <th>Wins</th>\n      <th>Losses</th>\n      <th>Top</th>\n      <th>Jungle</th>\n      <th>Mid</th>\n      <th>Ad carry</th>\n      <th>Support</th>\n      <th>Side</th>\n    </tr>\n  </thead>\n  <tbody>\n    <tr>\n      <th>0</th>\n      <td>TSM</td>\n      <td>0</td>\n      <td>2</td>\n      <td>Shen</td>\n      <td>Graves</td>\n      <td>LeBlanc</td>\n      <td>Ezreal</td>\n      <td>Bard</td>\n      <td>Blue</td>\n    </tr>\n    <tr>\n      <th>1</th>\n      <td>Fnatic</td>\n      <td>3</td>\n      <td>1</td>\n      <td>Volibear</td>\n      <td>Hecarim</td>\n      <td>Orianna</td>\n      <td>Ashe</td>\n      <td>Leona</td>\n      <td>Blue</td>\n    </tr>\n    <tr>\n      <th>2</th>\n      <td>MCX</td>\n      <td>1</td>\n      <td>2</td>\n      <td>Jayce</td>\n      <td>Volibear</td>\n      <td>Syndra</td>\n      <td>Ashe</td>\n      <td>Nautilus</td>\n      <td>Blue</td>\n    </tr>\n    <tr>\n      <th>3</th>\n      <td>TL</td>\n      <td>0</td>\n      <td>4</td>\n      <td>Malphite</td>\n      <td>Lillia</td>\n      <td>Sett</td>\n      <td>Jhin</td>\n      <td>Bard</td>\n      <td>Red</td>\n    </tr>\n    <tr>\n      <th>4</th>\n      <td>JD</td>\n      <td>2</td>\n      <td>1</td>\n      <td>Camille</td>\n      <td>Sylas</td>\n      <td>Ekko</td>\n      <td>Jhin</td>\n      <td>Senna</td>\n      <td>Red</td>\n    </tr>\n    <tr>\n      <th>5</th>\n      <td>TSM</td>\n      <td>0</td>\n      <td>1</td>\n      <td>Renekton</td>\n      <td>Nidalee</td>\n      <td>Zilean</td>\n      <td>Senna</td>\n      <td>Rakan</td>\n      <td>Red</td>\n    </tr>\n    <tr>\n      <th>6</th>\n      <td>Suning</td>\n      <td>3</td>\n      <td>1</td>\n      <td>Jayce</td>\n      <td>Graves</td>\n      <td>Twisted Fate</td>\n      <td>Senna</td>\n      <td>Tahm Kench</td>\n      <td>Blue</td>\n    </tr>\n    <tr>\n      <th>7</th>\n      <td>TL</td>\n      <td>0</td>\n      <td>2</td>\n      <td>Volibear</td>\n      <td>Graves</td>\n      <td>Orianna</td>\n      <td>Kalista</td>\n      <td>Sett</td>\n      <td>Red</td>\n    </tr>\n    <tr>\n      <th>8</th>\n      <td>TL</td>\n      <td>1</td>\n      <td>4</td>\n      <td>Shen</td>\n      <td>Lillia</td>\n      <td>Syndra</td>\n      <td>Senna</td>\n      <td>Pan</td>\n      <td>Blue</td>\n    </tr>\n    <tr>\n      <th>9</th>\n      <td>Rogue</td>\n      <td>1</td>\n      <td>2</td>\n      <td>Ornn</td>\n      <td>Graves</td>\n      <td>Orianna</td>\n      <td>Kalista</td>\n      <td>Pantheon</td>\n      <td>Blue</td>\n    </tr>\n    <tr>\n      <th>10</th>\n      <td>MCX</td>\n      <td>1</td>\n      <td>0</td>\n      <td>Mordekaiser</td>\n      <td>Graves</td>\n      <td>Syndra</td>\n      <td>Senna</td>\n      <td>Pantheon</td>\n      <td>Blue</td>\n    </tr>\n    <tr>\n      <th>11</th>\n      <td>TOP</td>\n      <td>0</td>\n      <td>0</td>\n      <td>Camille</td>\n      <td>Graves</td>\n      <td>Akali</td>\n      <td>Senna</td>\n      <td>Sett</td>\n      <td>Red</td>\n    </tr>\n    <tr>\n      <th>12</th>\n      <td>GEN</td>\n      <td>2</td>\n      <td>1</td>\n      <td>Volibear</td>\n      <td>Nidalee</td>\n      <td>Azir</td>\n      <td>Senna</td>\n      <td>Tahm Kench</td>\n      <td>Red</td>\n    </tr>\n    <tr>\n      <th>13</th>\n      <td>LGD</td>\n      <td>0</td>\n      <td>1</td>\n      <td>Ornn</td>\n      <td>Kindred</td>\n      <td>Ekko</td>\n      <td>Miss Fortune</td>\n      <td>Nautilus</td>\n      <td>Blue</td>\n    </tr>\n    <tr>\n      <th>14</th>\n      <td>Suning</td>\n      <td>4</td>\n      <td>1</td>\n      <td>Camille</td>\n      <td>Jarvan</td>\n      <td>Syndra</td>\n      <td>Ezreal</td>\n      <td>Bard</td>\n      <td>Blue</td>\n    </tr>\n    <tr>\n      <th>15</th>\n      <td>Rogue</td>\n      <td>1</td>\n      <td>0</td>\n      <td>Gangplank</td>\n      <td>Hecarim</td>\n      <td>Syndra</td>\n      <td>Kalista</td>\n      <td>Taric</td>\n      <td>Blue</td>\n    </tr>\n    <tr>\n      <th>16</th>\n      <td>PSG</td>\n      <td>0</td>\n      <td>3</td>\n      <td>Gangplank</td>\n      <td>Kindred</td>\n      <td>Syndra</td>\n      <td>Ashe</td>\n      <td>Tahm Kench</td>\n      <td>Blue</td>\n    </tr>\n    <tr>\n      <th>17</th>\n      <td>GEN</td>\n      <td>1</td>\n      <td>0</td>\n      <td>Volibear</td>\n      <td>Lillia</td>\n      <td>Sett</td>\n      <td>Ezreal</td>\n      <td>Karma</td>\n      <td>Blue</td>\n    </tr>\n    <tr>\n      <th>18</th>\n      <td>MCX</td>\n      <td>0</td>\n      <td>0</td>\n      <td>Ornn</td>\n      <td>Volibear</td>\n      <td>Syndra</td>\n      <td>Ezreal</td>\n      <td>Karma</td>\n      <td>Blue</td>\n    </tr>\n    <tr>\n      <th>19</th>\n      <td>MCX</td>\n      <td>1</td>\n      <td>1</td>\n      <td>Shen</td>\n      <td>Volibear</td>\n      <td>Azir</td>\n      <td>Ashe</td>\n      <td>Rakan</td>\n      <td>Red</td>\n    </tr>\n    <tr>\n      <th>20</th>\n      <td>Suning</td>\n      <td>2</td>\n      <td>1</td>\n      <td>Irelia</td>\n      <td>Graves</td>\n      <td>Galio</td>\n      <td>Jhin</td>\n      <td>Bard</td>\n      <td>Red</td>\n    </tr>\n    <tr>\n      <th>21</th>\n      <td>LGD</td>\n      <td>2</td>\n      <td>1</td>\n      <td>Renekton</td>\n      <td>Lillia</td>\n      <td>Orianna</td>\n      <td>Jhin</td>\n      <td>Pantheon</td>\n      <td>Blue</td>\n    </tr>\n    <tr>\n      <th>22</th>\n      <td>DWG</td>\n      <td>3</td>\n      <td>0</td>\n      <td>Ornn</td>\n      <td>Graves</td>\n      <td>Ekko</td>\n      <td>Jhin</td>\n      <td>Bard</td>\n      <td>Red</td>\n    </tr>\n    <tr>\n      <th>23</th>\n      <td>TL</td>\n      <td>0</td>\n      <td>1</td>\n      <td>Volibear</td>\n      <td>Lee Sin</td>\n      <td>Syndra</td>\n      <td>Twitch</td>\n      <td>Rakan</td>\n      <td>Blue</td>\n    </tr>\n    <tr>\n      <th>24</th>\n      <td>DWG</td>\n      <td>5</td>\n      <td>0</td>\n      <td>Sett</td>\n      <td>Graves</td>\n      <td>Galio</td>\n      <td>Kalista</td>\n      <td>Alistar</td>\n      <td>Red</td>\n    </tr>\n    <tr>\n      <th>25</th>\n      <td>JD</td>\n      <td>0</td>\n      <td>0</td>\n      <td>Volibear</td>\n      <td>Lillia</td>\n      <td>Jayce</td>\n      <td>Ashe</td>\n      <td>Nautilus</td>\n      <td>Red</td>\n    </tr>\n    <tr>\n      <th>26</th>\n      <td>DX</td>\n      <td>0</td>\n      <td>2</td>\n      <td>Maokai</td>\n      <td>Kindred</td>\n      <td>Zoe</td>\n      <td>Caitlyn</td>\n      <td>Lux</td>\n      <td>Blue</td>\n    </tr>\n    <tr>\n      <th>27</th>\n      <td>G2</td>\n      <td>1</td>\n      <td>0</td>\n      <td>Camille</td>\n      <td>Nidalee</td>\n      <td>Galio</td>\n      <td>Ashe</td>\n      <td>Tahm Kench</td>\n      <td>Red</td>\n    </tr>\n    <tr>\n      <th>28</th>\n      <td>JD</td>\n      <td>0</td>\n      <td>1</td>\n      <td>Sett</td>\n      <td>Sylas</td>\n      <td>Ekko</td>\n      <td>Ashe</td>\n      <td>Pantheon</td>\n      <td>Red</td>\n    </tr>\n    <tr>\n      <th>29</th>\n      <td>FLY</td>\n      <td>0</td>\n      <td>1</td>\n      <td>Renekton</td>\n      <td>Volibear</td>\n      <td>Syndra</td>\n      <td>Miss Fortune</td>\n      <td>Rakan</td>\n      <td>Blue</td>\n    </tr>\n    <tr>\n      <th>30</th>\n      <td>JD</td>\n      <td>3</td>\n      <td>2</td>\n      <td>Camille</td>\n      <td>Lillia</td>\n      <td>Twisted Fate</td>\n      <td>Miss Fortune</td>\n      <td>Bard</td>\n      <td>Blue</td>\n    </tr>\n    <tr>\n      <th>31</th>\n      <td>G2</td>\n      <td>3</td>\n      <td>0</td>\n      <td>Sylas</td>\n      <td>Volibear</td>\n      <td>Ekko</td>\n      <td>Ashe</td>\n      <td>Tahm Kench</td>\n      <td>Red</td>\n    </tr>\n    <tr>\n      <th>32</th>\n      <td>UOL</td>\n      <td>0</td>\n      <td>2</td>\n      <td>Camille</td>\n      <td>Lee Sin</td>\n      <td>Syndra</td>\n      <td>Karthus</td>\n      <td>Nautilus</td>\n      <td>Red</td>\n    </tr>\n    <tr>\n      <th>33</th>\n      <td>DX</td>\n      <td>0</td>\n      <td>1</td>\n      <td>Quinn</td>\n      <td>Lee Sin</td>\n      <td>Twisted Fate</td>\n      <td>Draven</td>\n      <td>Thresh</td>\n      <td>Red</td>\n    </tr>\n    <tr>\n      <th>34</th>\n      <td>PSG</td>\n      <td>0</td>\n      <td>4</td>\n      <td>Ornn</td>\n      <td>Kindred</td>\n      <td>Syndra</td>\n      <td>Caitlyn</td>\n      <td>Lux</td>\n      <td>Red</td>\n    </tr>\n    <tr>\n      <th>35</th>\n      <td>DWG</td>\n      <td>4</td>\n      <td>0</td>\n      <td>Kennen</td>\n      <td>Graves</td>\n      <td>Twisted Fate</td>\n      <td>Senna</td>\n      <td>Leona</td>\n      <td>Blue</td>\n    </tr>\n    <tr>\n      <th>36</th>\n      <td>TSM</td>\n      <td>0</td>\n      <td>3</td>\n      <td>Camille</td>\n      <td>Nidalee</td>\n      <td>Galio</td>\n      <td>Jhin</td>\n      <td>Leona</td>\n      <td>Red</td>\n    </tr>\n    <tr>\n      <th>37</th>\n      <td>DWG</td>\n      <td>2</td>\n      <td>0</td>\n      <td>Kennen</td>\n      <td>Graves</td>\n      <td>Syndra</td>\n      <td>Senna</td>\n      <td>Thresh</td>\n      <td>Blue</td>\n    </tr>\n    <tr>\n      <th>38</th>\n      <td>DWG</td>\n      <td>0</td>\n      <td>0</td>\n      <td>Camille</td>\n      <td>Nidalee</td>\n      <td>Twisted Fate</td>\n      <td>Jhin</td>\n      <td>Leona</td>\n      <td>Blue</td>\n    </tr>\n    <tr>\n      <th>39</th>\n      <td>G2</td>\n      <td>0</td>\n      <td>0</td>\n      <td>Volibear</td>\n      <td>Graves</td>\n      <td>Twisted Fate</td>\n      <td>Ezreal</td>\n      <td>Bard</td>\n      <td>Blue</td>\n    </tr>\n    <tr>\n      <th>40</th>\n      <td>TOP</td>\n      <td>2</td>\n      <td>0</td>\n      <td>Jax</td>\n      <td>Gragas</td>\n      <td>Lucian</td>\n      <td>Senna</td>\n      <td>Tahm Kench</td>\n      <td>Blue</td>\n    </tr>\n    <tr>\n      <th>41</th>\n      <td>G2</td>\n      <td>2</td>\n      <td>0</td>\n      <td>Renekton</td>\n      <td>Nidalee</td>\n      <td>Jayce</td>\n      <td>Ashe</td>\n      <td>Alistar</td>\n      <td>Blue</td>\n    </tr>\n    <tr>\n      <th>42</th>\n      <td>DWG</td>\n      <td>1</td>\n      <td>0</td>\n      <td>Lulu</td>\n      <td>Graves</td>\n      <td>Sylas</td>\n      <td>Ashe</td>\n      <td>Pantheon</td>\n      <td>Red</td>\n    </tr>\n    <tr>\n      <th>43</th>\n      <td>FLY</td>\n      <td>1</td>\n      <td>1</td>\n      <td>Ornn</td>\n      <td>Graves</td>\n      <td>Orianna</td>\n      <td>Ashe</td>\n      <td>Pantheon</td>\n      <td>Red</td>\n    </tr>\n    <tr>\n      <th>44</th>\n      <td>GEN</td>\n      <td>2</td>\n      <td>0</td>\n      <td>Renekton</td>\n      <td>Nidalee</td>\n      <td>Azir</td>\n      <td>Ezreal</td>\n      <td>Rakan</td>\n      <td>Red</td>\n    </tr>\n    <tr>\n      <th>45</th>\n      <td>MCX</td>\n      <td>1</td>\n      <td>3</td>\n      <td>Ornn</td>\n      <td>Graves</td>\n      <td>Orianna</td>\n      <td>Ezreal</td>\n      <td>Alistar</td>\n      <td>Red</td>\n    </tr>\n    <tr>\n      <th>46</th>\n      <td>LGD</td>\n      <td>1</td>\n      <td>1</td>\n      <td>Renekton</td>\n      <td>Lillia</td>\n      <td>Orianna</td>\n      <td>Senna</td>\n      <td>Nautilus</td>\n      <td>Red</td>\n    </tr>\n    <tr>\n      <th>47</th>\n      <td>UOL</td>\n      <td>0</td>\n      <td>0</td>\n      <td>Renekton</td>\n      <td>Evelynn</td>\n      <td>Orianna</td>\n      <td>Jhin</td>\n      <td>Alistar</td>\n      <td>Blue</td>\n    </tr>\n    <tr>\n      <th>48</th>\n      <td>GEN</td>\n      <td>0</td>\n      <td>0</td>\n      <td>Volibear</td>\n      <td>Gragas</td>\n      <td>Lucian</td>\n      <td>Ashe</td>\n      <td>Sett</td>\n      <td>Blue</td>\n    </tr>\n    <tr>\n      <th>49</th>\n      <td>TL</td>\n      <td>0</td>\n      <td>3</td>\n      <td>Lulu</td>\n      <td>Hecarim</td>\n      <td>Syndra</td>\n      <td>Kalista</td>\n      <td>Sett</td>\n      <td>Blue</td>\n    </tr>\n  </tbody>\n</table>\n</div>"
     },
     "metadata": {},
     "output_type": "execute_result",
     "execution_count": 4
    }
   ],
   "source": [
    "data.head(50)"
   ],
   "metadata": {
    "collapsed": false,
    "pycharm": {
     "name": "#%%\n",
     "is_executing": false
    }
   }
  },
  {
   "cell_type": "code",
   "execution_count": 5,
   "outputs": [],
   "source": [
    "le = preprocessing.LabelEncoder()"
   ],
   "metadata": {
    "collapsed": false,
    "pycharm": {
     "name": "#%%\n",
     "is_executing": false
    }
   }
  },
  {
   "cell_type": "code",
   "execution_count": 6,
   "outputs": [],
   "source": [
    "team = data[\"Team\"].values\n",
    "top = data[\"Top\"].values\n",
    "jungle = data[\"Jungle\"].values\n",
    "mid = data[\"Mid\"].values\n",
    "adc = data[\"Ad carry\"].values\n",
    "supp = data[\"Support\"].values\n",
    "side = data[\"Side\"].values"
   ],
   "metadata": {
    "collapsed": false,
    "pycharm": {
     "name": "#%%\n",
     "is_executing": false
    }
   }
  },
  {
   "cell_type": "code",
   "execution_count": 7,
   "outputs": [],
   "source": [
    "data[\"Team\"] = le.fit_transform(team)\n",
    "data[\"Top\"] = le.fit_transform(top)\n",
    "data[\"Jungle\"] = le.fit_transform(jungle)\n",
    "data[\"Mid\"] = le.fit_transform(mid)\n",
    "data[\"Ad carry\"] = le.fit_transform(adc)\n",
    "data[\"Support\"] = le.fit_transform(supp)\n",
    "data[\"Side\"] = le.fit_transform(side)\n",
    "\n"
   ],
   "metadata": {
    "collapsed": false,
    "pycharm": {
     "name": "#%%\n",
     "is_executing": false
    }
   }
  },
  {
   "cell_type": "code",
   "execution_count": 8,
   "outputs": [
    {
     "data": {
      "text/plain": "    Team  Wins  Losses  Top  Jungle  Mid  Ad carry  Support  Side\n0     14     0       2   15       2    6         4        1     0\n1      3     3       1   18       3    9         1        5     0\n2      8     1       2    4      10   13         1        7     0\n3     12     0       4    8       7   11         5        1     1\n4      6     2       1    0       9    2         5       11     1\n..   ...   ...     ...  ...     ...  ...       ...      ...   ...\n73    12     0       0   10       2    9         2        6     1\n74     1     0       0   11       8   11         1        9     1\n75     7     2       2   13       2   16         9        7     2\n76    10     0       0    8       0    7         6       10     0\n77     4     4       1   13       2    2         6       11     1\n\n[78 rows x 9 columns]",
      "text/html": "<div>\n<style scoped>\n    .dataframe tbody tr th:only-of-type {\n        vertical-align: middle;\n    }\n\n    .dataframe tbody tr th {\n        vertical-align: top;\n    }\n\n    .dataframe thead th {\n        text-align: right;\n    }\n</style>\n<table border=\"1\" class=\"dataframe\">\n  <thead>\n    <tr style=\"text-align: right;\">\n      <th></th>\n      <th>Team</th>\n      <th>Wins</th>\n      <th>Losses</th>\n      <th>Top</th>\n      <th>Jungle</th>\n      <th>Mid</th>\n      <th>Ad carry</th>\n      <th>Support</th>\n      <th>Side</th>\n    </tr>\n  </thead>\n  <tbody>\n    <tr>\n      <th>0</th>\n      <td>14</td>\n      <td>0</td>\n      <td>2</td>\n      <td>15</td>\n      <td>2</td>\n      <td>6</td>\n      <td>4</td>\n      <td>1</td>\n      <td>0</td>\n    </tr>\n    <tr>\n      <th>1</th>\n      <td>3</td>\n      <td>3</td>\n      <td>1</td>\n      <td>18</td>\n      <td>3</td>\n      <td>9</td>\n      <td>1</td>\n      <td>5</td>\n      <td>0</td>\n    </tr>\n    <tr>\n      <th>2</th>\n      <td>8</td>\n      <td>1</td>\n      <td>2</td>\n      <td>4</td>\n      <td>10</td>\n      <td>13</td>\n      <td>1</td>\n      <td>7</td>\n      <td>0</td>\n    </tr>\n    <tr>\n      <th>3</th>\n      <td>12</td>\n      <td>0</td>\n      <td>4</td>\n      <td>8</td>\n      <td>7</td>\n      <td>11</td>\n      <td>5</td>\n      <td>1</td>\n      <td>1</td>\n    </tr>\n    <tr>\n      <th>4</th>\n      <td>6</td>\n      <td>2</td>\n      <td>1</td>\n      <td>0</td>\n      <td>9</td>\n      <td>2</td>\n      <td>5</td>\n      <td>11</td>\n      <td>1</td>\n    </tr>\n    <tr>\n      <th>...</th>\n      <td>...</td>\n      <td>...</td>\n      <td>...</td>\n      <td>...</td>\n      <td>...</td>\n      <td>...</td>\n      <td>...</td>\n      <td>...</td>\n      <td>...</td>\n    </tr>\n    <tr>\n      <th>73</th>\n      <td>12</td>\n      <td>0</td>\n      <td>0</td>\n      <td>10</td>\n      <td>2</td>\n      <td>9</td>\n      <td>2</td>\n      <td>6</td>\n      <td>1</td>\n    </tr>\n    <tr>\n      <th>74</th>\n      <td>1</td>\n      <td>0</td>\n      <td>0</td>\n      <td>11</td>\n      <td>8</td>\n      <td>11</td>\n      <td>1</td>\n      <td>9</td>\n      <td>1</td>\n    </tr>\n    <tr>\n      <th>75</th>\n      <td>7</td>\n      <td>2</td>\n      <td>2</td>\n      <td>13</td>\n      <td>2</td>\n      <td>16</td>\n      <td>9</td>\n      <td>7</td>\n      <td>2</td>\n    </tr>\n    <tr>\n      <th>76</th>\n      <td>10</td>\n      <td>0</td>\n      <td>0</td>\n      <td>8</td>\n      <td>0</td>\n      <td>7</td>\n      <td>6</td>\n      <td>10</td>\n      <td>0</td>\n    </tr>\n    <tr>\n      <th>77</th>\n      <td>4</td>\n      <td>4</td>\n      <td>1</td>\n      <td>13</td>\n      <td>2</td>\n      <td>2</td>\n      <td>6</td>\n      <td>11</td>\n      <td>1</td>\n    </tr>\n  </tbody>\n</table>\n<p>78 rows × 9 columns</p>\n</div>"
     },
     "metadata": {},
     "output_type": "execute_result",
     "execution_count": 8
    }
   ],
   "source": [
    "data.head(100)"
   ],
   "metadata": {
    "collapsed": false,
    "pycharm": {
     "name": "#%%\n",
     "is_executing": false
    }
   }
  },
  {
   "cell_type": "code",
   "execution_count": 19,
   "outputs": [],
   "source": [],
   "metadata": {
    "collapsed": false,
    "pycharm": {
     "name": "#%%\n",
     "is_executing": false
    }
   }
  },
  {
   "cell_type": "code",
   "execution_count": 9,
   "outputs": [],
   "source": [
    "from sklearn.ensemble import RandomForestClassifier\n",
    "from sklearn.model_selection import StratifiedKFold"
   ],
   "metadata": {
    "collapsed": false,
    "pycharm": {
     "name": "#%%\n",
     "is_executing": false
    }
   }
  },
  {
   "cell_type": "code",
   "execution_count": 10,
   "outputs": [],
   "source": [
    "rf = RandomForestClassifier(min_samples_split=2, criterion='entropy', max_depth=50, max_features='auto', n_estimators=250)"
   ],
   "metadata": {
    "collapsed": false,
    "pycharm": {
     "name": "#%%\n",
     "is_executing": false
    }
   }
  },
  {
   "cell_type": "code",
   "execution_count": 11,
   "outputs": [
    {
     "name": "stdout",
     "text": [
      "TRAIN: [ 8  9 10 11 12 13 14 15 16 17 18 19 20 21 22 23 24 25 26 27 28 29 30 31\n",
      " 32 33 34 35 36 37 38 39 40 41 42 43 44 45 46 47 48 49 50 51 52 53 54 55\n",
      " 56 57 58 59 60 61 62 63 64 65 66 67 68 69 70 71 72 73 74 75 76 77] TEST: [0 1 2 3 4 5 6 7]\n",
      "TRAIN: [ 0  1  2  3  4  5  6  7 14 17 18 19 20 21 22 23 24 25 26 27 28 29 30 31\n",
      " 32 33 34 35 36 37 38 39 40 41 42 43 44 45 46 47 48 49 50 51 52 53 54 55\n",
      " 56 57 58 59 60 61 62 63 64 65 66 67 68 69 70 71 72 73 74 75 76 77] TEST: [ 8  9 10 11 12 13 15 16]\n",
      "TRAIN: [ 0  1  2  3  4  5  6  7  8  9 10 11 12 13 15 16 22 25 26 27 28 29 30 31\n",
      " 32 33 34 35 36 37 38 39 40 41 42 43 44 45 46 47 48 49 50 51 52 53 54 55\n",
      " 56 57 58 59 60 61 62 63 64 65 66 67 68 69 70 71 72 73 74 75 76 77] TEST: [14 17 18 19 20 21 23 24]\n",
      "TRAIN: [ 0  1  2  3  4  5  6  7  8  9 10 11 12 13 14 15 16 17 18 19 20 21 23 24\n",
      " 29 30 31 34 35 37 38 39 40 41 42 43 44 45 46 47 48 49 50 51 52 53 54 55\n",
      " 56 57 58 59 60 61 62 63 64 65 66 67 68 69 70 71 72 73 74 75 76 77] TEST: [22 25 26 27 28 32 33 36]\n",
      "TRAIN: [ 0  1  2  3  4  5  6  7  8  9 10 11 12 13 14 15 16 17 18 19 20 21 22 23\n",
      " 24 25 26 27 28 32 33 35 36 37 38 39 40 42 46 47 48 49 50 51 52 53 54 55\n",
      " 56 57 58 59 60 61 62 63 64 65 66 67 68 69 70 71 72 73 74 75 76 77] TEST: [29 30 31 34 41 43 44 45]\n",
      "TRAIN: [ 0  1  2  3  4  5  6  7  8  9 10 11 12 13 14 15 16 17 18 19 20 21 22 23\n",
      " 24 25 26 27 28 29 30 31 32 33 34 36 40 41 42 43 44 45 46 48 51 53 54 55\n",
      " 56 57 58 59 60 61 62 63 64 65 66 67 68 69 70 71 72 73 74 75 76 77] TEST: [35 37 38 39 47 49 50 52]\n",
      "TRAIN: [ 0  1  2  3  4  5  6  7  8  9 10 11 12 13 14 15 16 17 18 19 20 21 22 23\n",
      " 24 25 26 27 28 29 30 31 32 33 34 35 36 37 38 39 41 43 44 45 47 49 50 51\n",
      " 52 57 58 59 60 61 62 63 64 65 66 67 68 69 70 71 72 73 74 75 76 77] TEST: [40 42 46 48 53 54 55 56]\n",
      "TRAIN: [ 0  1  2  3  4  5  6  7  8  9 10 11 12 13 14 15 16 17 18 19 20 21 22 23\n",
      " 24 25 26 27 28 29 30 31 32 33 34 35 36 37 38 39 40 41 42 43 44 45 46 47\n",
      " 48 49 50 52 53 54 55 56 64 65 66 67 68 69 70 71 72 73 74 75 76 77] TEST: [51 57 58 59 60 61 62 63]\n",
      "TRAIN: [ 0  1  2  3  4  5  6  7  8  9 10 11 12 13 14 15 16 17 18 19 20 21 22 23\n",
      " 24 25 26 27 28 29 30 31 32 33 34 35 36 37 38 39 40 41 42 43 44 45 46 47\n",
      " 48 49 50 51 52 53 54 55 56 57 58 59 60 61 62 63 70 72 73 74 75 76 77] TEST: [64 65 66 67 68 69 71]\n",
      "TRAIN: [ 0  1  2  3  4  5  6  7  8  9 10 11 12 13 14 15 16 17 18 19 20 21 22 23\n",
      " 24 25 26 27 28 29 30 31 32 33 34 35 36 37 38 39 40 41 42 43 44 45 46 47\n",
      " 48 49 50 51 52 53 54 55 56 57 58 59 60 61 62 63 64 65 66 67 68 69 71] TEST: [70 72 73 74 75 76 77]\n",
      "Accuracy:  [0.5, 0.375, 0.625, 0.375, 0.5, 0.75, 0.75, 0.625, 0.7142857142857143, 0.7142857142857143]\n"
     ],
     "output_type": "stream"
    }
   ],
   "source": [
    "X = data\n",
    "y = data_target\n",
    "accuracy = []\n",
    "skf = StratifiedKFold(n_splits=10)\n",
    "skf.get_n_splits(X,y)\n",
    "\n",
    "for train_index, test_index in skf.split(X, y):\n",
    "    print(\"TRAIN:\", train_index, \"TEST:\", test_index)\n",
    "    X_train, X_test = X.iloc[train_index], X.iloc[test_index]\n",
    "    y_train, y_test = y[train_index], y[test_index]\n",
    "    \n",
    "    #model\n",
    "    rf.fit(X_train, y_train)\n",
    "    pred = rf.predict(X_test)\n",
    "    score = accuracy_score(pred, y_test)\n",
    "    accuracy.append(score)\n",
    "    \n",
    "print(\"Accuracy: \", accuracy)"
   ],
   "metadata": {
    "collapsed": false,
    "pycharm": {
     "name": "#%%\n",
     "is_executing": false
    }
   }
  },
  {
   "cell_type": "code",
   "execution_count": 19,
   "outputs": [],
   "source": [
    "sample = pd.DataFrame({\n",
    "    \"Team\" : [7],\n",
    "    \"Wins\" : [0],\n",
    "    \"Losses\" : [5],\n",
    "    \"Top\" : [0],\n",
    "    \"Jungle\" : [2],\n",
    "    \"Mid\" : [15],\n",
    "    \"Ad carry\" : [1],\n",
    "    \"Support\" : [9],\n",
    "    \"Side\" : [0]\n",
    "})\n",
    "sample_2 = pd.DataFrame({\n",
    "    \"Team\" : [14],\n",
    "    \"Wins\" : [0],\n",
    "    \"Losses\" : [5],\n",
    "    \"Top\" : [0],\n",
    "    \"Jungle\" : [2],\n",
    "    \"Mid\" : [15],\n",
    "    \"Ad carry\" : [1],\n",
    "    \"Support\" : [15],\n",
    "    \"Side\" : [1]\n",
    "})\n",
    "\n",
    "sample_3 = pd.DataFrame({\n",
    "    \"Team\" : [3],\n",
    "    \"Wins\" : [3],\n",
    "    \"Losses\" : [1],\n",
    "    \"Top\" : [18],\n",
    "    \"Jungle\" : [3],\n",
    "    \"Mid\" : [9],\n",
    "    \"Ad carry\" : [1],\n",
    "    \"Support\" : [5],\n",
    "    \"Side\" : [0]\n",
    "})"
   ],
   "metadata": {
    "collapsed": false,
    "pycharm": {
     "name": "#%%\n",
     "is_executing": false
    }
   }
  },
  {
   "cell_type": "code",
   "execution_count": 20,
   "outputs": [],
   "source": [
    "pred_2 = rf.predict(sample_3)"
   ],
   "metadata": {
    "collapsed": false,
    "pycharm": {
     "name": "#%%\n",
     "is_executing": false
    }
   }
  },
  {
   "cell_type": "code",
   "execution_count": 21,
   "outputs": [
    {
     "data": {
      "text/plain": "1"
     },
     "metadata": {},
     "output_type": "execute_result",
     "execution_count": 21
    }
   ],
   "source": [
    "pred_2[0]\n"
   ],
   "metadata": {
    "collapsed": false,
    "pycharm": {
     "name": "#%%\n",
     "is_executing": false
    }
   }
  },
  {
   "cell_type": "code",
   "execution_count": 17,
   "outputs": [],
   "source": [],
   "metadata": {
    "collapsed": false,
    "pycharm": {
     "name": "#%%\n",
     "is_executing": false
    }
   }
  },
  {
   "cell_type": "code",
   "execution_count": 17,
   "outputs": [],
   "source": [],
   "metadata": {
    "collapsed": false,
    "pycharm": {
     "name": "#%%\n",
     "is_executing": false
    }
   }
  },
  {
   "cell_type": "code",
   "execution_count": null,
   "outputs": [],
   "source": [
    "\n"
   ],
   "metadata": {
    "collapsed": false,
    "pycharm": {
     "name": "#%%\n"
    }
   }
  }
 ],
 "metadata": {
  "kernelspec": {
   "display_name": "Python 3",
   "language": "python",
   "name": "python3"
  },
  "language_info": {
   "codemirror_mode": {
    "name": "ipython",
    "version": 2
   },
   "file_extension": ".py",
   "mimetype": "text/x-python",
   "name": "python",
   "nbconvert_exporter": "python",
   "pygments_lexer": "ipython2",
   "version": "2.7.6"
  },
  "pycharm": {
   "stem_cell": {
    "cell_type": "raw",
    "source": [],
    "metadata": {
     "collapsed": false
    }
   }
  }
 },
 "nbformat": 4,
 "nbformat_minor": 0
}